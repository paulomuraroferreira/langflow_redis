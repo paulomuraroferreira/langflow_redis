{
 "cells": [
  {
   "cell_type": "markdown",
   "metadata": {},
   "source": [
    "# Ragas Evaluation on Langflow"
   ]
  },
  {
   "cell_type": "markdown",
   "metadata": {},
   "source": [
    "The repository implements the code for RAGAS metrics faithfulness, answer_relevancy, context_recall, and context_precision (https://docs.ragas.io/en/stable/index.html) on a RAG pipeline.\n",
    "\n",
    "This is done by creating the custom component ragas_custom_component.json.\n",
    "\n",
    "![image.png](README_files/langflowcode.png)\n"
   ]
  },
  {
   "cell_type": "markdown",
   "metadata": {},
   "source": [
    "# Tutorial"
   ]
  },
  {
   "cell_type": "markdown",
   "metadata": {},
   "source": [
    "Clone the repository"
   ]
  },
  {
   "cell_type": "code",
   "execution_count": null,
   "metadata": {},
   "outputs": [],
   "source": [
    "git clone https://github.com/paulomuraroferreira/langflow_ragas.git"
   ]
  },
  {
   "cell_type": "markdown",
   "metadata": {},
   "source": [
    "Install langflow and ragas:"
   ]
  },
  {
   "cell_type": "code",
   "execution_count": null,
   "metadata": {},
   "outputs": [],
   "source": [
    "!pip install langflow\n",
    "!pip install redis"
   ]
  },
  {
   "cell_type": "markdown",
   "metadata": {},
   "source": [
    "On the terminal, execute"
   ]
  },
  {
   "cell_type": "code",
   "execution_count": null,
   "metadata": {},
   "outputs": [],
   "source": [
    "langflow run"
   ]
  },
  {
   "cell_type": "markdown",
   "metadata": {},
   "source": [
    "Upload the json RAG pipeline RAGAS metrics.json\n",
    "\n",
    "![image.png](README_files/langflow_upload.png)"
   ]
  },
  {
   "cell_type": "markdown",
   "metadata": {},
   "source": [
    "Copy the pdf documents to the pdf_documents folder,\n",
    "or change the path in the Document Loader component:"
   ]
  },
  {
   "cell_type": "markdown",
   "metadata": {},
   "source": [
    "![image.png](README_files/langflow1.png)"
   ]
  },
  {
   "cell_type": "markdown",
   "metadata": {},
   "source": [
    "Enter your OpenAI API key on both Embeddings components,\n",
    "\n",
    "![image.png](README_files/langflow2.png)\n",
    "\n",
    "on the OpenAI models component,\n",
    "\n",
    "![image-3.png](README_files/langflow3.png)\n",
    "\n",
    "and on the Ragas custom component:\n",
    "\n",
    "![image-4.png](README_files/langflow4.png)"
   ]
  },
  {
   "cell_type": "markdown",
   "metadata": {},
   "source": [
    "Run the chunking pipeline by executing the ChromaDB component:\n",
    "\n",
    "![Langflow Image](README_files/langflow9.png)"
   ]
  },
  {
   "cell_type": "markdown",
   "metadata": {},
   "source": [
    "Enter the playground and ask questions:\n",
    "\n",
    "![Langflow Image](README_files/langflow5.png)"
   ]
  }
 ],
 "metadata": {
  "kernelspec": {
   "display_name": ".venv",
   "language": "python",
   "name": "python3"
  },
  "language_info": {
   "codemirror_mode": {
    "name": "ipython",
    "version": 3
   },
   "file_extension": ".py",
   "mimetype": "text/x-python",
   "name": "python",
   "nbconvert_exporter": "python",
   "pygments_lexer": "ipython3",
   "version": "3.12.3"
  }
 },
 "nbformat": 4,
 "nbformat_minor": 2
}
